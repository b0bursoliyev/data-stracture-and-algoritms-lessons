{
 "cells": [
  {
   "cell_type": "code",
   "execution_count": 59,
   "metadata": {},
   "outputs": [],
   "source": [
    "class Node:\n",
    "  def __init__(self,data) -> None:\n",
    "    self.data = data\n",
    "    self.next = None\n",
    "\n",
    "class Linkedlist:\n",
    "  def __init__(self) -> None:\n",
    "    super().__init__()\n",
    "    self.head = None\n",
    "\n",
    "  def printList(self:None):\n",
    "    temp = self.head\n",
    "    while temp:\n",
    "      print(temp.data)\n",
    "      temp = temp.next\n",
    "\n",
    "  def push(self,new_data):\n",
    "    new_data = Node(new_data)\n",
    "    new_data = self.head\n",
    "    self.head = new_data"
   ]
  },
  {
   "cell_type": "code",
   "execution_count": 60,
   "metadata": {},
   "outputs": [],
   "source": [
    "llist = Linkedlist\n",
    "llist.head = Node(\"Dushanba\")\n",
    "l2 = Node('Seshanba')\n",
    "llist.head.next = l2\n",
    "l3 = Node(\"Chorshanba\")\n",
    "l2.next = l3\n",
    "l4 = Node(\"Payshanba\")\n",
    "l3.next = l4"
   ]
  },
  {
   "cell_type": "code",
   "execution_count": 61,
   "metadata": {},
   "outputs": [
    {
     "data": {
      "text/plain": [
       "'Chorshanba'"
      ]
     },
     "execution_count": 61,
     "metadata": {},
     "output_type": "execute_result"
    }
   ],
   "source": [
    "llist.head.next.next.data"
   ]
  },
  {
   "cell_type": "code",
   "execution_count": 62,
   "metadata": {},
   "outputs": [
    {
     "ename": "TypeError",
     "evalue": "Linkedlist.printList() missing 1 required positional argument: 'self'",
     "output_type": "error",
     "traceback": [
      "\u001b[1;31m---------------------------------------------------------------------------\u001b[0m",
      "\u001b[1;31mTypeError\u001b[0m                                 Traceback (most recent call last)",
      "\u001b[1;32mc:\\Users\\Lucas\\Desktop\\MTA\\linked_list.ipynb Cell 4\u001b[0m line \u001b[0;36m1\n\u001b[1;32m----> <a href='vscode-notebook-cell:/c%3A/Users/Lucas/Desktop/MTA/linked_list.ipynb#W3sZmlsZQ%3D%3D?line=0'>1</a>\u001b[0m llist\u001b[39m.\u001b[39;49mprintList()\n",
      "\u001b[1;31mTypeError\u001b[0m: Linkedlist.printList() missing 1 required positional argument: 'self'"
     ]
    }
   ],
   "source": [
    "llist.printList()"
   ]
  },
  {
   "cell_type": "code",
   "execution_count": 63,
   "metadata": {},
   "outputs": [
    {
     "ename": "TypeError",
     "evalue": "Linkedlist.push() missing 1 required positional argument: 'new_data'",
     "output_type": "error",
     "traceback": [
      "\u001b[1;31m---------------------------------------------------------------------------\u001b[0m",
      "\u001b[1;31mTypeError\u001b[0m                                 Traceback (most recent call last)",
      "\u001b[1;32mc:\\Users\\Lucas\\Desktop\\MTA\\linked_list.ipynb Cell 5\u001b[0m line \u001b[0;36m1\n\u001b[1;32m----> <a href='vscode-notebook-cell:/c%3A/Users/Lucas/Desktop/MTA/linked_list.ipynb#W4sZmlsZQ%3D%3D?line=0'>1</a>\u001b[0m llist\u001b[39m.\u001b[39;49mpush(\u001b[39m\"\u001b[39;49m\u001b[39mJuma\u001b[39;49m\u001b[39m\"\u001b[39;49m)\n",
      "\u001b[1;31mTypeError\u001b[0m: Linkedlist.push() missing 1 required positional argument: 'new_data'"
     ]
    }
   ],
   "source": [
    "llist.push(\"Juma\")"
   ]
  }
 ],
 "metadata": {
  "kernelspec": {
   "display_name": "Python 3",
   "language": "python",
   "name": "python3"
  },
  "language_info": {
   "codemirror_mode": {
    "name": "ipython",
    "version": 3
   },
   "file_extension": ".py",
   "mimetype": "text/x-python",
   "name": "python",
   "nbconvert_exporter": "python",
   "pygments_lexer": "ipython3",
   "version": "3.11.4"
  }
 },
 "nbformat": 4,
 "nbformat_minor": 2
}
